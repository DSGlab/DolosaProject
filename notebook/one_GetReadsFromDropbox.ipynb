{
 "cells": [
  {
   "cell_type": "markdown",
   "metadata": {},
   "source": [
    "<h5>IF WORKING FROM SCINET, REMOVE #</h5>"
   ]
  },
  {
   "cell_type": "code",
   "execution_count": null,
   "metadata": {
    "collapsed": true
   },
   "outputs": [],
   "source": [
    "#ssh nia-datamover1.scinet.utoronto.ca\n",
    "#cd $SCRATCH/DolosaProject"
   ]
  },
  {
   "cell_type": "markdown",
   "metadata": {},
   "source": [
    "<h3>GET READS FROM DROPBOX</h3>"
   ]
  },
  {
   "cell_type": "code",
   "execution_count": 3,
   "metadata": {
    "collapsed": false
   },
   "outputs": [],
   "source": [
    "#Make sure to be in the DolosaProjectDirectory\n",
    "#This is just to see if we are still in the notebook directory,\n",
    "#might be an overkill.\n",
    "if [ $(basename $PWD) == \"notebook\" ]; then cd .. ;fi"
   ]
  },
  {
   "cell_type": "code",
   "execution_count": 5,
   "metadata": {
    "collapsed": false
   },
   "outputs": [],
   "source": [
    "#Create directory for data\n",
    "mkdir data\n",
    "cd data\n",
    "mkdir wgs\n",
    "cd wgs"
   ]
  },
  {
   "cell_type": "code",
   "execution_count": 13,
   "metadata": {
    "collapsed": false,
    "scrolled": true
   },
   "outputs": [
    {
     "name": "stdout",
     "output_type": "stream",
     "text": [
      "/Users/juliofdiaz/Documents/workshop/DolosaProject/data\n",
      "ls: https://www.dropbox.com/s/5b1dle48wunc7hl/1a.tar.gz: No such file or directory\n",
      "ls: https://www.dropbox.com/s/0kthk6d6thf7ck5/1b.tar.gz: No such file or directory\n",
      "ls: https://www.dropbox.com/s/6r8ifcquion1uel/1c.tar.gz: No such file or directory\n",
      "ls: https://www.dropbox.com/s/9tuybodpbh6ezo4/1d.tar.gz: No such file or directory\n",
      "ls: https://www.dropbox.com/s/6rfhmu0pgfuvxad/1e.tar.gz: No such file or directory\n",
      "ls: https://www.dropbox.com/s/e435yzw0bt1bxc5/1f.tar.gz: No such file or directory\n",
      "ls: https://www.dropbox.com/s/9jte7zecg0fr22k/1g.tar.gz: No such file or directory\n",
      "ls: https://www.dropbox.com/s/7bkgjlixjizi9rl/1h.tar.gz: No such file or directory\n",
      "ls: https://www.dropbox.com/s/civutc1ndrtbhze/1i.tar.gz: No such file or directory\n",
      "ls: https://www.dropbox.com/s/1cplygi1b30yp9w/1j.tar.gz: No such file or directory\n",
      "ls: https://www.dropbox.com/s/cgk0rosdvz9kh9e/2a.tar.gz: No such file or directory\n",
      "ls: https://www.dropbox.com/s/ty2scwasge46g30/2b.tar.gz: No such file or directory\n",
      "ls: https://www.dropbox.com/s/c5wi8dwq2op4f75/2c.tar.gz: No such file or directory\n",
      "ls: https://www.dropbox.com/s/epficwqcx2egsbz/2d.tar.gz: No such file or directory\n",
      "ls: https://www.dropbox.com/s/uu2cudnx7zgb3ol/2e.tar.gz: No such file or directory\n",
      "ls: https://www.dropbox.com/s/c73mgeqtlhndz4q/2f.tar.gz: No such file or directory\n",
      "ls: https://www.dropbox.com/s/cdi1urrkrrb7scf/2g.tar.gz: No such file or directory\n",
      "ls: https://www.dropbox.com/s/8yqfypm8u9jpgs4/2h.tar.gz: No such file or directory\n",
      "ls: https://www.dropbox.com/s/gxmkzwk68ztflc8/2i.tar.gz: No such file or directory\n",
      "ls: https://www.dropbox.com/s/834eohfwr932gp2/2j.tar.gz: No such file or directory\n",
      "ls: https://www.dropbox.com/s/fgkd3vyvv50sekm/3a.tar.gz: No such file or directory\n",
      "ls: https://www.dropbox.com/s/2a30iaevyjfggtv/3b.tar.gz: No such file or directory\n",
      "ls: https://www.dropbox.com/s/vvo2a2an68t3lt8/3c.tar.gz: No such file or directory\n",
      "ls: https://www.dropbox.com/s/haf4bp5c5fah335/3d.tar.gz: No such file or directory\n",
      "ls: https://www.dropbox.com/s/qpnsmcy6ovxtn98/3e.tar.gz: No such file or directory\n",
      "ls: https://www.dropbox.com/s/jyvt06vqg4iyrbm/3f.tar.gz: No such file or directory\n",
      "ls: https://www.dropbox.com/s/dr3sdj0miwb99pf/3g.tar.gz: No such file or directory\n",
      "ls: https://www.dropbox.com/s/jtgqj4q5avdgi3p/3h.tar.gz: No such file or directory\n",
      "ls: https://www.dropbox.com/s/pjkqm3y1ur85tq1/3i.tar.gz: No such file or directory\n",
      "ls: https://www.dropbox.com/s/hnmd2qv391uow4o/3j.tar.gz: No such file or directory\n",
      "ls: https://www.dropbox.com/s/ru90mslmfkysx4p/4a.tar.gz: No such file or directory\n",
      "ls: https://www.dropbox.com/s/rgxw5qu0lg3vsvd/4b.tar.gz: No such file or directory\n",
      "ls: https://www.dropbox.com/s/vvagi8g7qajwn0a/4c.tar.gz: No such file or directory\n",
      "ls: https://www.dropbox.com/s/vknehrk8xymfnnj/4d.tar.gz: No such file or directory\n",
      "ls: https://www.dropbox.com/s/cixujx67htvd06m/4e.tar.gz: No such file or directory\n",
      "ls: https://www.dropbox.com/s/wruhc6nczz6yzhq/4f.tar.gz: No such file or directory\n",
      "ls: https://www.dropbox.com/s/y3cy50wjpfcljx9/4g.tar.gz: No such file or directory\n",
      "ls: https://www.dropbox.com/s/0dfumlv6vukocyt/4h.tar.gz: No such file or directory\n",
      "ls: https://www.dropbox.com/s/m5sjd2avsijguuf/4i.tar.gz: No such file or directory\n",
      "ls: https://www.dropbox.com/s/5yoqd2eg3g9cts3/4j.tar.gz: No such file or directory\n",
      "ls: https://www.dropbox.com/s/i9ridmm9p9zeyim/5a.tar.gz: No such file or directory\n",
      "ls: https://www.dropbox.com/s/qcckkva2mb8nli0/5b.tar.gz: No such file or directory\n",
      "ls: https://www.dropbox.com/s/4svk7gpq91nj9xx/5c.tar.gz: No such file or directory\n",
      "ls: https://www.dropbox.com/s/gj0edxr9vgkhet1/5d.tar.gz: No such file or directory\n",
      "ls: https://www.dropbox.com/s/o2o1i08brkppku5/5e.tar.gz: No such file or directory\n",
      "ls: https://www.dropbox.com/s/jboie9khol67v7i/5f.tar.gz: No such file or directory\n",
      "ls: https://www.dropbox.com/s/qkp57pxuldovv74/5g.tar.gz: No such file or directory\n",
      "ls: https://www.dropbox.com/s/dqzwuqbhfb4nn2g/5h.tar.gz: No such file or directory\n",
      "ls: https://www.dropbox.com/s/raxjwiikpadwvrb/5i.tar.gz: No such file or directory\n",
      "ls: https://www.dropbox.com/s/w4p5ijzqjfdnqrp/5j.tar.gz: No such file or directory\n",
      "ls: https://www.dropbox.com/s/mnbg4vac92cffta/6a.tar.gz: No such file or directory\n",
      "ls: https://www.dropbox.com/s/aucmz9619ocwsju/6b.tar.gz: No such file or directory\n",
      "ls: https://www.dropbox.com/s/8q4gs8ed402ef1n/6c.tar.gz: No such file or directory\n",
      "ls: https://www.dropbox.com/s/scj26k6mm993nz9/6d.tar.gz: No such file or directory\n",
      "ls: https://www.dropbox.com/s/hw1qy47i7j09t7s/6e.tar.gz: No such file or directory\n",
      "ls: https://www.dropbox.com/s/hw1qy47i7j09t7s/6e.tar.gz: No such file or directory\n",
      "ls: https://www.dropbox.com/s/27azeqqysziqyv0/6g.tar.gz: No such file or directory\n",
      "ls: https://www.dropbox.com/s/xj7wfp8xgeh1pyo/6h.tar.gz: No such file or directory\n",
      "ls: https://www.dropbox.com/s/k6wntb6en17z4q7/6i.tar.gz: No such file or directory\n",
      "ls: https://www.dropbox.com/s/bxbdvhb99u10rjq/6j.tar.gz: No such file or directory\n",
      "ls: https://www.dropbox.com/s/8b7vs0eq3ffnpiq/7a.tar.gz: No such file or directory\n",
      "ls: https://www.dropbox.com/s/8d8v1vpr58259b9/7b.tar.gz: No such file or directory\n",
      "ls: https://www.dropbox.com/s/6cynbe8ajbbnuak/7c.tar.gz: No such file or directory\n",
      "ls: https://www.dropbox.com/s/sbbpl9py2nhctha/7d.tar.gz: No such file or directory\n",
      "ls: https://www.dropbox.com/s/a7hxhh0ghqiezfg/7e.tar.gz: No such file or directory\n",
      "ls: https://www.dropbox.com/s/gd1k4nwj791sv5k/7f.tar.gz: No such file or directory\n",
      "ls: https://www.dropbox.com/s/v9eqnx8s2v7xyrl/7g.tar.gz: No such file or directory\n",
      "ls: https://www.dropbox.com/s/j4curm9u4rl1ov1/7h.tar.gz: No such file or directory\n",
      "ls: https://www.dropbox.com/s/zgprk9g7vdsd097/7i.tar.gz: No such file or directory\n",
      "ls: https://www.dropbox.com/s/zgq369yz2zfzq2f/7j.tar.gz: No such file or directory\n",
      "ls: https://www.dropbox.com/s/qdn9ndkrk6b5io1/8a.tar.gz: No such file or directory\n",
      "ls: https://www.dropbox.com/s/bhbmnx1a5buugui/8b.tar.gz: No such file or directory\n",
      "ls: https://www.dropbox.com/s/e87kg9qq6y3x2vd/8c.tar.gz: No such file or directory\n",
      "ls: https://www.dropbox.com/s/jq2kd1iih5jbk4t/8d.tar.gz: No such file or directory\n",
      "ls: https://www.dropbox.com/s/kocj7o9vh1wi1am/8e.tar.gz: No such file or directory\n",
      "ls: https://www.dropbox.com/s/uw66jq0knxh54ec/8f.tar.gz: No such file or directory\n",
      "ls: https://www.dropbox.com/s/6ll3zfxytp6xshd/8g.tar.gz: No such file or directory\n",
      "ls: https://www.dropbox.com/s/7q9qgmw1xljrzok/8h.tar.gz: No such file or directory\n",
      "ls: https://www.dropbox.com/s/o5pmfzc5usxwdku/8i.tar.gz: No such file or directory\n",
      "ls: https://www.dropbox.com/s/9lvvzu92x2a5auk/8j.tar.gz: No such file or directory\n"
     ]
    }
   ],
   "source": [
    "#Download reads from Dropbox\n",
    "tail -n +2 ../../doc/DropboxLinks.txt | awk '{system(\"wget \"$2)}'"
   ]
  },
  {
   "cell_type": "code",
   "execution_count": null,
   "metadata": {
    "collapsed": true
   },
   "outputs": [],
   "source": [
    "#check md5. This is performed to check that the files were downloaded appropriately\n",
    "md5sum -c md5checksums.txt"
   ]
  },
  {
   "cell_type": "code",
   "execution_count": 17,
   "metadata": {
    "collapsed": false
   },
   "outputs": [
    {
     "name": "stdout",
     "output_type": "stream",
     "text": [
      "tail: ../../doc/DropboxLinks.txt: No such file or directory\n"
     ]
    }
   ],
   "source": [
    "#Extract reads from tar.gz\n",
    "tail -n +2 ../../doc/DropboxLinks.txt | awk '{system(\"tar -zxvf \"$1\".tar.gz\")}'"
   ]
  },
  {
   "cell_type": "code",
   "execution_count": null,
   "metadata": {
    "collapsed": true
   },
   "outputs": [],
   "source": [
    "#remove uncompressed files\n",
    "rm *tar.gz"
   ]
  },
  {
   "cell_type": "markdown",
   "metadata": {},
   "source": [
    "<h3>GET REFERENCE GENOMES</h3>"
   ]
  },
  {
   "cell_type": "code",
   "execution_count": 19,
   "metadata": {
    "collapsed": true
   },
   "outputs": [],
   "source": [
    "#create directory where the \n",
    "cd ..\n",
    "mkdir reference\n",
    "cd reference"
   ]
  },
  {
   "cell_type": "code",
   "execution_count": 31,
   "metadata": {
    "collapsed": false
   },
   "outputs": [
    {
     "name": "stdout",
     "output_type": "stream",
     "text": [
      "--2018-12-14 10:35:36--  ftp://ftp.ncbi.nlm.nih.gov/genomes/all/GCF/000/959/505/GCF_000959505.1_ASM95950v1/\n",
      "           => ‘au0158/genomes/all/GCF/000/959/505/GCF_000959505.1_ASM95950v1/.listing’\n",
      "Resolving ftp.ncbi.nlm.nih.gov (ftp.ncbi.nlm.nih.gov)... 130.14.250.10\n",
      "Connecting to ftp.ncbi.nlm.nih.gov (ftp.ncbi.nlm.nih.gov)|130.14.250.10|:21... connected.\n",
      "Logging in as anonymous ... Logged in!\n",
      "==> SYST ... done.    ==> PWD ... done.\n",
      "==> TYPE I ... done.  ==> CWD (1) /genomes/all/GCF/000/959/505/GCF_000959505.1_ASM95950v1 ... done.\n",
      "==> PASV ... done.    ==> LIST ... done.\n",
      "\n",
      "genomes/all/GCF/000     [ <=>                ]   1.53K  --.-KB/s    in 0.003s  \n",
      "\n",
      "2018-12-14 10:35:36 (517 KB/s) - ‘au0158/genomes/all/GCF/000/959/505/GCF_000959505.1_ASM95950v1/.listing’ saved [1563]\n",
      "\n",
      "Removed ‘au0158/genomes/all/GCF/000/959/505/GCF_000959505.1_ASM95950v1/.listing’.\n",
      "--2018-12-14 10:35:36--  ftp://ftp.ncbi.nlm.nih.gov/genomes/all/GCF/000/959/505/GCF_000959505.1_ASM95950v1/GCF_000959505.1_ASM95950v1_assembly_report.txt\n",
      "           => ‘au0158/genomes/all/GCF/000/959/505/GCF_000959505.1_ASM95950v1/GCF_000959505.1_ASM95950v1_assembly_report.txt’\n",
      "==> CWD not required.\n",
      "==> PASV ... done.    ==> RETR GCF_000959505.1_ASM95950v1_assembly_report.txt ... done.\n",
      "Length: 1564 (1.5K)\n",
      "\n",
      "genomes/all/GCF/000 100%[===================>]   1.53K  --.-KB/s    in 0s      \n",
      "\n",
      "2018-12-14 10:35:36 (136 MB/s) - ‘au0158/genomes/all/GCF/000/959/505/GCF_000959505.1_ASM95950v1/GCF_000959505.1_ASM95950v1_assembly_report.txt’ saved [1564]\n",
      "\n",
      "--2018-12-14 10:35:36--  ftp://ftp.ncbi.nlm.nih.gov/genomes/all/GCF/000/959/505/GCF_000959505.1_ASM95950v1/GCF_000959505.1_ASM95950v1_assembly_stats.txt\n",
      "           => ‘au0158/genomes/all/GCF/000/959/505/GCF_000959505.1_ASM95950v1/GCF_000959505.1_ASM95950v1_assembly_stats.txt’\n",
      "==> CWD not required.\n",
      "==> PASV ... done.    ==> RETR GCF_000959505.1_ASM95950v1_assembly_stats.txt ... done.\n",
      "Length: 5364 (5.2K)\n",
      "\n",
      "genomes/all/GCF/000 100%[===================>]   5.24K  --.-KB/s    in 0s      \n",
      "\n",
      "2018-12-14 10:35:37 (77.5 MB/s) - ‘au0158/genomes/all/GCF/000/959/505/GCF_000959505.1_ASM95950v1/GCF_000959505.1_ASM95950v1_assembly_stats.txt’ saved [5364]\n",
      "\n",
      "--2018-12-14 10:35:37--  ftp://ftp.ncbi.nlm.nih.gov/genomes/all/GCF/000/959/505/GCF_000959505.1_ASM95950v1/GCF_000959505.1_ASM95950v1_cds_from_genomic.fna.gz\n",
      "           => ‘au0158/genomes/all/GCF/000/959/505/GCF_000959505.1_ASM95950v1/GCF_000959505.1_ASM95950v1_cds_from_genomic.fna.gz’\n",
      "==> CWD not required.\n",
      "==> PASV ... done.    ==> RETR GCF_000959505.1_ASM95950v1_cds_from_genomic.fna.gz ... done.\n",
      "Length: 1819286 (1.7M)\n",
      "\n",
      "genomes/all/GCF/000 100%[===================>]   1.73M  5.65MB/s    in 0.3s    \n",
      "\n",
      "2018-12-14 10:35:37 (5.65 MB/s) - ‘au0158/genomes/all/GCF/000/959/505/GCF_000959505.1_ASM95950v1/GCF_000959505.1_ASM95950v1_cds_from_genomic.fna.gz’ saved [1819286]\n",
      "\n",
      "--2018-12-14 10:35:37--  ftp://ftp.ncbi.nlm.nih.gov/genomes/all/GCF/000/959/505/GCF_000959505.1_ASM95950v1/GCF_000959505.1_ASM95950v1_feature_count.txt.gz\n",
      "           => ‘au0158/genomes/all/GCF/000/959/505/GCF_000959505.1_ASM95950v1/GCF_000959505.1_ASM95950v1_feature_count.txt.gz’\n",
      "==> CWD not required.\n",
      "==> PASV ... done.    ==> RETR GCF_000959505.1_ASM95950v1_feature_count.txt.gz ... done.\n",
      "Length: 275\n",
      "\n",
      "genomes/all/GCF/000 100%[===================>]     275  --.-KB/s    in 0s      \n",
      "\n",
      "2018-12-14 10:35:37 (13.8 MB/s) - ‘au0158/genomes/all/GCF/000/959/505/GCF_000959505.1_ASM95950v1/GCF_000959505.1_ASM95950v1_feature_count.txt.gz’ saved [275]\n",
      "\n",
      "--2018-12-14 10:35:37--  ftp://ftp.ncbi.nlm.nih.gov/genomes/all/GCF/000/959/505/GCF_000959505.1_ASM95950v1/GCF_000959505.1_ASM95950v1_feature_table.txt.gz\n",
      "           => ‘au0158/genomes/all/GCF/000/959/505/GCF_000959505.1_ASM95950v1/GCF_000959505.1_ASM95950v1_feature_table.txt.gz’\n",
      "==> CWD not required.\n",
      "==> PASV ... done.    ==> RETR GCF_000959505.1_ASM95950v1_feature_table.txt.gz ... done.\n",
      "Length: 253253 (247K)\n",
      "\n",
      "genomes/all/GCF/000 100%[===================>] 247.32K  --.-KB/s    in 0.1s    \n",
      "\n",
      "2018-12-14 10:35:38 (1.80 MB/s) - ‘au0158/genomes/all/GCF/000/959/505/GCF_000959505.1_ASM95950v1/GCF_000959505.1_ASM95950v1_feature_table.txt.gz’ saved [253253]\n",
      "\n",
      "--2018-12-14 10:35:38--  ftp://ftp.ncbi.nlm.nih.gov/genomes/all/GCF/000/959/505/GCF_000959505.1_ASM95950v1/GCF_000959505.1_ASM95950v1_genomic.fna.gz\n",
      "           => ‘au0158/genomes/all/GCF/000/959/505/GCF_000959505.1_ASM95950v1/GCF_000959505.1_ASM95950v1_genomic.fna.gz’\n",
      "==> CWD not required.\n",
      "==> PASV ... done.    ==> RETR GCF_000959505.1_ASM95950v1_genomic.fna.gz ... done.\n",
      "Length: 1796224 (1.7M)\n",
      "\n",
      "genomes/all/GCF/000 100%[===================>]   1.71M  5.99MB/s    in 0.3s    \n",
      "\n",
      "2018-12-14 10:35:38 (5.99 MB/s) - ‘au0158/genomes/all/GCF/000/959/505/GCF_000959505.1_ASM95950v1/GCF_000959505.1_ASM95950v1_genomic.fna.gz’ saved [1796224]\n",
      "\n",
      "--2018-12-14 10:35:38--  ftp://ftp.ncbi.nlm.nih.gov/genomes/all/GCF/000/959/505/GCF_000959505.1_ASM95950v1/GCF_000959505.1_ASM95950v1_genomic.gbff.gz\n",
      "           => ‘au0158/genomes/all/GCF/000/959/505/GCF_000959505.1_ASM95950v1/GCF_000959505.1_ASM95950v1_genomic.gbff.gz’\n",
      "==> CWD not required.\n",
      "==> PASV ... done.    ==> RETR GCF_000959505.1_ASM95950v1_genomic.gbff.gz ... done.\n",
      "Length: 4053057 (3.9M)\n",
      "\n",
      "genomes/all/GCF/000 100%[===================>]   3.87M  9.91MB/s    in 0.4s    \n",
      "\n",
      "2018-12-14 10:35:39 (9.91 MB/s) - ‘au0158/genomes/all/GCF/000/959/505/GCF_000959505.1_ASM95950v1/GCF_000959505.1_ASM95950v1_genomic.gbff.gz’ saved [4053057]\n",
      "\n",
      "--2018-12-14 10:35:39--  ftp://ftp.ncbi.nlm.nih.gov/genomes/all/GCF/000/959/505/GCF_000959505.1_ASM95950v1/GCF_000959505.1_ASM95950v1_genomic.gff.gz\n",
      "           => ‘au0158/genomes/all/GCF/000/959/505/GCF_000959505.1_ASM95950v1/GCF_000959505.1_ASM95950v1_genomic.gff.gz’\n",
      "==> CWD not required.\n",
      "==> PASV ... done.    ==> RETR GCF_000959505.1_ASM95950v1_genomic.gff.gz ... done.\n",
      "Length: 354862 (347K)\n",
      "\n",
      "genomes/all/GCF/000 100%[===================>] 346.54K  2.18MB/s    in 0.2s    \n",
      "\n",
      "2018-12-14 10:35:39 (2.18 MB/s) - ‘au0158/genomes/all/GCF/000/959/505/GCF_000959505.1_ASM95950v1/GCF_000959505.1_ASM95950v1_genomic.gff.gz’ saved [354862]\n",
      "\n",
      "--2018-12-14 10:35:39--  ftp://ftp.ncbi.nlm.nih.gov/genomes/all/GCF/000/959/505/GCF_000959505.1_ASM95950v1/GCF_000959505.1_ASM95950v1_protein.faa.gz\n",
      "           => ‘au0158/genomes/all/GCF/000/959/505/GCF_000959505.1_ASM95950v1/GCF_000959505.1_ASM95950v1_protein.faa.gz’\n",
      "==> CWD not required.\n",
      "==> PASV ... done.    ==> RETR GCF_000959505.1_ASM95950v1_protein.faa.gz ... done.\n",
      "Length: 1170441 (1.1M)\n",
      "\n",
      "genomes/all/GCF/000 100%[===================>]   1.12M  4.66MB/s    in 0.2s    \n",
      "\n",
      "2018-12-14 10:35:40 (4.66 MB/s) - ‘au0158/genomes/all/GCF/000/959/505/GCF_000959505.1_ASM95950v1/GCF_000959505.1_ASM95950v1_protein.faa.gz’ saved [1170441]\n",
      "\n",
      "--2018-12-14 10:35:40--  ftp://ftp.ncbi.nlm.nih.gov/genomes/all/GCF/000/959/505/GCF_000959505.1_ASM95950v1/GCF_000959505.1_ASM95950v1_protein.gpff.gz\n",
      "           => ‘au0158/genomes/all/GCF/000/959/505/GCF_000959505.1_ASM95950v1/GCF_000959505.1_ASM95950v1_protein.gpff.gz’\n",
      "==> CWD not required.\n",
      "==> PASV ... done.    ==> RETR GCF_000959505.1_ASM95950v1_protein.gpff.gz ... done.\n",
      "Length: 1611908 (1.5M)\n",
      "\n",
      "genomes/all/GCF/000 100%[===================>]   1.54M  5.66MB/s    in 0.3s    \n",
      "\n",
      "2018-12-14 10:35:40 (5.66 MB/s) - ‘au0158/genomes/all/GCF/000/959/505/GCF_000959505.1_ASM95950v1/GCF_000959505.1_ASM95950v1_protein.gpff.gz’ saved [1611908]\n",
      "\n",
      "--2018-12-14 10:35:40--  ftp://ftp.ncbi.nlm.nih.gov/genomes/all/GCF/000/959/505/GCF_000959505.1_ASM95950v1/GCF_000959505.1_ASM95950v1_rna_from_genomic.fna.gz\n",
      "           => ‘au0158/genomes/all/GCF/000/959/505/GCF_000959505.1_ASM95950v1/GCF_000959505.1_ASM95950v1_rna_from_genomic.fna.gz’\n",
      "==> CWD not required.\n",
      "==> PASV ... done.    ==> RETR GCF_000959505.1_ASM95950v1_rna_from_genomic.fna.gz ... done.\n",
      "Length: 5660 (5.5K)\n",
      "\n",
      "genomes/all/GCF/000 100%[===================>]   5.53K  --.-KB/s    in 0s      \n",
      "\n",
      "2018-12-14 10:35:40 (100 MB/s) - ‘au0158/genomes/all/GCF/000/959/505/GCF_000959505.1_ASM95950v1/GCF_000959505.1_ASM95950v1_rna_from_genomic.fna.gz’ saved [5660]\n",
      "\n",
      "--2018-12-14 10:35:40--  ftp://ftp.ncbi.nlm.nih.gov/genomes/all/GCF/000/959/505/GCF_000959505.1_ASM95950v1/GCF_000959505.1_ASM95950v1_translated_cds.faa.gz\n",
      "           => ‘au0158/genomes/all/GCF/000/959/505/GCF_000959505.1_ASM95950v1/GCF_000959505.1_ASM95950v1_translated_cds.faa.gz’\n",
      "==> CWD not required.\n",
      "==> PASV ... done.    ==> RETR GCF_000959505.1_ASM95950v1_translated_cds.faa.gz ... done.\n",
      "Length: 1354553 (1.3M)\n",
      "\n",
      "genomes/all/GCF/000 100%[===================>]   1.29M  5.03MB/s    in 0.3s    \n",
      "\n",
      "2018-12-14 10:35:41 (5.03 MB/s) - ‘au0158/genomes/all/GCF/000/959/505/GCF_000959505.1_ASM95950v1/GCF_000959505.1_ASM95950v1_translated_cds.faa.gz’ saved [1354553]\n",
      "\n",
      "--2018-12-14 10:35:41--  ftp://ftp.ncbi.nlm.nih.gov/genomes/all/GCF/000/959/505/GCF_000959505.1_ASM95950v1/README.txt\n",
      "           => ‘au0158/genomes/all/GCF/000/959/505/GCF_000959505.1_ASM95950v1/README.txt’\n",
      "==> CWD not required.\n",
      "==> SIZE README.txt ... 27762\n",
      "==> PASV ... done.    ==> RETR README.txt ... done.\n",
      "Length: 27762 (27K) (unauthoritative)\n",
      "\n",
      "genomes/all/GCF/000 100%[===================>]  27.11K  --.-KB/s    in 0.03s   \n",
      "\n",
      "2018-12-14 10:35:41 (960 KB/s) - ‘au0158/genomes/all/GCF/000/959/505/GCF_000959505.1_ASM95950v1/README.txt’ saved [27762]\n",
      "\n",
      "--2018-12-14 10:35:41--  ftp://ftp.ncbi.nlm.nih.gov/genomes/all/GCF/000/959/505/GCF_000959505.1_ASM95950v1/annotation_hashes.txt\n",
      "           => ‘au0158/genomes/all/GCF/000/959/505/GCF_000959505.1_ASM95950v1/annotation_hashes.txt’\n",
      "==> CWD not required.\n",
      "==> PASV ... done.    ==> RETR annotation_hashes.txt ... done.\n",
      "Length: 410\n",
      "\n",
      "genomes/all/GCF/000 100%[===================>]     410  --.-KB/s    in 0s      \n",
      "\n",
      "2018-12-14 10:35:41 (9.31 MB/s) - ‘au0158/genomes/all/GCF/000/959/505/GCF_000959505.1_ASM95950v1/annotation_hashes.txt’ saved [410]\n",
      "\n",
      "--2018-12-14 10:35:41--  ftp://ftp.ncbi.nlm.nih.gov/genomes/all/GCF/000/959/505/GCF_000959505.1_ASM95950v1/assembly_status.txt\n",
      "           => ‘au0158/genomes/all/GCF/000/959/505/GCF_000959505.1_ASM95950v1/assembly_status.txt’\n",
      "==> CWD not required.\n",
      "==> PASV ... done.    ==> RETR assembly_status.txt ... done.\n",
      "Length: 14\n",
      "\n",
      "genomes/all/GCF/000 100%[===================>]      14  --.-KB/s    in 0s      \n",
      "\n",
      "2018-12-14 10:35:41 (684 KB/s) - ‘au0158/genomes/all/GCF/000/959/505/GCF_000959505.1_ASM95950v1/assembly_status.txt’ saved [14]\n",
      "\n",
      "--2018-12-14 10:35:41--  ftp://ftp.ncbi.nlm.nih.gov/genomes/all/GCF/000/959/505/GCF_000959505.1_ASM95950v1/md5checksums.txt\n",
      "           => ‘au0158/genomes/all/GCF/000/959/505/GCF_000959505.1_ASM95950v1/md5checksums.txt’\n",
      "==> CWD not required.\n",
      "==> PASV ... done.    ==> RETR md5checksums.txt ... done.\n",
      "Length: 1042 (1.0K)\n",
      "\n",
      "genomes/all/GCF/000 100%[===================>]   1.02K  --.-KB/s    in 0s      \n",
      "\n",
      "2018-12-14 10:35:42 (52.3 MB/s) - ‘au0158/genomes/all/GCF/000/959/505/GCF_000959505.1_ASM95950v1/md5checksums.txt’ saved [1042]\n",
      "\n",
      "FINISHED --2018-12-14 10:35:42--\n",
      "Total wall clock time: 6.0s\n",
      "Downloaded: 16 files, 12M in 2.1s (5.74 MB/s)\n"
     ]
    }
   ],
   "source": [
    "#download genome of au0158 from ncbi\n",
    "wget --recursive --no-host-directories -P au0158 ftp://ftp.ncbi.nlm.nih.gov/genomes/all/GCF/000/959/505/GCF_000959505.1_ASM95950v1/"
   ]
  },
  {
   "cell_type": "code",
   "execution_count": 27,
   "metadata": {
    "collapsed": false
   },
   "outputs": [],
   "source": [
    "#move to directory qith downloaded data\n",
    "cd au0158"
   ]
  },
  {
   "cell_type": "code",
   "execution_count": 33,
   "metadata": {
    "collapsed": false
   },
   "outputs": [],
   "source": [
    "#organize downloaded files\n",
    "mv genomes/all/GCF/000/959/505/GCF_000959505.1_ASM95950v1/* .\n",
    "rm genomes"
   ]
  },
  {
   "cell_type": "code",
   "execution_count": 37,
   "metadata": {
    "collapsed": false
   },
   "outputs": [],
   "source": [
    "#Extract files\n",
    "for i in `ls *gz`; do gunzip $i;done"
   ]
  },
  {
   "cell_type": "code",
   "execution_count": 66,
   "metadata": {
    "collapsed": false
   },
   "outputs": [
    {
     "name": "stdout",
     "output_type": "stream",
     "text": [
      "./GCF_000959505.1_ASM95950v1_assembly_report.txt: OK\n",
      "./GCF_000959505.1_ASM95950v1_assembly_stats.txt: OK\n",
      "md5sum: stat './GCF_000959505.1_ASM95950v1_cds_from_genomic.fna.gz': No such file or directory\n",
      "md5sum: stat './GCF_000959505.1_ASM95950v1_feature_count.txt.gz': No such file or directory\n",
      "md5sum: stat './GCF_000959505.1_ASM95950v1_feature_table.txt.gz': No such file or directory\n",
      "md5sum: stat './GCF_000959505.1_ASM95950v1_genomic.fna.gz': No such file or directory\n",
      "md5sum: stat './GCF_000959505.1_ASM95950v1_genomic.gbff.gz': No such file or directory\n",
      "md5sum: stat './GCF_000959505.1_ASM95950v1_genomic.gff.gz': No such file or directory\n",
      "md5sum: stat './GCF_000959505.1_ASM95950v1_protein.faa.gz': No such file or directory\n",
      "md5sum: stat './GCF_000959505.1_ASM95950v1_protein.gpff.gz': No such file or directory\n",
      "md5sum: stat './GCF_000959505.1_ASM95950v1_rna_from_genomic.fna.gz': No such file or directory\n",
      "md5sum: stat './GCF_000959505.1_ASM95950v1_translated_cds.faa.gz': No such file or directory\n",
      "./annotation_hashes.txt: OK\n"
     ]
    }
   ],
   "source": [
    "#check md5. This is performed to check that the files were downloaded appropriately\n",
    "md5sum -c md5checksums.txt"
   ]
  },
  {
   "cell_type": "code",
   "execution_count": 10,
   "metadata": {
    "collapsed": false
   },
   "outputs": [],
   "source": [
    "#Rename reference genomic sequences to match the format Name_TypeOfReplicon_Number\n",
    "awk '{if ($1 ~ /^\\>/) {print \">\"$4\"_\"$5\"_\"substr($6,1,1)} else print}' GCF_000959505.1_ASM95950v1_genomic.fna > au0158.fa"
   ]
  },
  {
   "cell_type": "code",
   "execution_count": 17,
   "metadata": {
    "collapsed": false
   },
   "outputs": [
    {
     "name": "stdout",
     "output_type": "stream",
     "text": [
      "FileInfo.txt\n",
      "GCF_000959505.1_ASM95950v1_assembly_report.txt\n",
      "GCF_000959505.1_ASM95950v1_assembly_stats.txt\n",
      "GCF_000959505.1_ASM95950v1_cds_from_genomic.fna\n",
      "GCF_000959505.1_ASM95950v1_feature_count.txt\n",
      "GCF_000959505.1_ASM95950v1_feature_table.txt\n",
      "GCF_000959505.1_ASM95950v1_genomic.fna\n",
      "GCF_000959505.1_ASM95950v1_genomic.gbff\n",
      "GCF_000959505.1_ASM95950v1_genomic.gff\n",
      "GCF_000959505.1_ASM95950v1_protein.faa\n",
      "GCF_000959505.1_ASM95950v1_protein.gpff\n",
      "GCF_000959505.1_ASM95950v1_rna_from_genomic.fna\n",
      "GCF_000959505.1_ASM95950v1_translated_cds.faa\n",
      "README.txt\n",
      "annotation_hashes.txt\n",
      "assembly_status.txt\n",
      "au0158.fa\n",
      "md5checksums.txt\n",
      "genomic_fasta au0158.fa\n"
     ]
    }
   ],
   "source": [
    "echo \"genomic_fasta au0158.fa\" > FileInfo.txt"
   ]
  },
  {
   "cell_type": "code",
   "execution_count": 14,
   "metadata": {
    "collapsed": false
   },
   "outputs": [
    {
     "name": "stdout",
     "output_type": "stream",
     "text": [
      "b0da7ead9d82a3494d7e0a7099871ef4  ./GCF_000959505.1_ASM95950v1_assembly_report.txt\n",
      "7ff32cbb16daf46c87b3546ad576ff66  ./GCF_000959505.1_ASM95950v1_assembly_stats.txt\n",
      "034081da3aa0708f06c2ec1129e4aca9  ./GCF_000959505.1_ASM95950v1_cds_from_genomic.fna.gz\n",
      "efac6b4613b747ffdc6f6624c902e384  ./GCF_000959505.1_ASM95950v1_feature_count.txt.gz\n",
      "3d76dcf99a1b85b9b09b9aa9ebe75a38  ./GCF_000959505.1_ASM95950v1_feature_table.txt.gz\n",
      "7e8ecdfefb6545914adca6cf5dc97505  ./GCF_000959505.1_ASM95950v1_genomic.fna.gz\n",
      "e99825d9ed1580d03d0b743c2d0e0dd7  ./GCF_000959505.1_ASM95950v1_genomic.gbff.gz\n",
      "4aad96647ccf0f374cb214089258b46f  ./GCF_000959505.1_ASM95950v1_genomic.gff.gz\n",
      "f149759574b847bf69a0d02bfe2e8452  ./GCF_000959505.1_ASM95950v1_protein.faa.gz\n",
      "f12cbdc8055c92dfb0416b8cddb4040e  ./GCF_000959505.1_ASM95950v1_protein.gpff.gz\n",
      "adebb3fd53fefa04abd497fbbeaa4c7f  ./GCF_000959505.1_ASM95950v1_rna_from_genomic.fna.gz\n",
      "312e5974d7fbaf11d2810ee478ec2c4c  ./GCF_000959505.1_ASM95950v1_translated_cds.faa.gz\n",
      "3a30966523a36368ab432f666001f80a  ./annotation_hashes.txt\n",
      "MD5 (GCF_000959505.1_ASM95950v1_assembly_report.txt) = b0da7ead9d82a3494d7e0a7099871ef4\n",
      "MD5 (GCF_000959505.1_ASM95950v1_assembly_stats.txt) = 7ff32cbb16daf46c87b3546ad576ff66\n",
      "MD5 (GCF_000959505.1_ASM95950v1_cds_from_genomic.fna) = c3a0f7b312838ee684c634c68da0f67d\n",
      "MD5 (GCF_000959505.1_ASM95950v1_feature_count.txt) = 547bb778982f1c61ca1dfa6094c60fa3\n",
      "MD5 (GCF_000959505.1_ASM95950v1_feature_table.txt) = 47bf89a7222163fe48879a1766f2ae0d\n",
      "MD5 (GCF_000959505.1_ASM95950v1_genomic.fna) = 09056a3fbbbf5bbbe5f06f1910547d19\n",
      "MD5 (GCF_000959505.1_ASM95950v1_genomic.gbff) = a3be11972ec08452bc1cdfbd23b3f8f1\n",
      "MD5 (GCF_000959505.1_ASM95950v1_genomic.gff) = a3ff1abae26d5a2b317237fce075cdef\n",
      "MD5 (GCF_000959505.1_ASM95950v1_protein.faa) = 8b350c6401228bd1eb385a768417d20b\n",
      "MD5 (GCF_000959505.1_ASM95950v1_protein.gpff) = 046ebf11169f8f0a022c6f65f8a898fc\n",
      "MD5 (GCF_000959505.1_ASM95950v1_rna_from_genomic.fna) = 36cb585b4499f4100c5d61dfa1b5ea33\n",
      "MD5 (GCF_000959505.1_ASM95950v1_translated_cds.faa) = a73ff4bb1d6942bff6f5f0b6007abb38\n",
      "MD5 (README.txt) = 6d42e5323e35036eeca7800f04610de8\n",
      "MD5 (annotation_hashes.txt) = 3a30966523a36368ab432f666001f80a\n",
      "MD5 (assembly_status.txt) = 3cc684138b66591e3e443234b56a2d63\n",
      "MD5 (au0158.fa) = 7be04835c3596bf70d28be9292f8ead8\n",
      "MD5 (md5checksums.txt) = ccb54cd15d9e5e7b99a2bb11b4f82768\n"
     ]
    }
   ],
   "source": [
    "cat md5checksums.txt\n",
    "md5 *"
   ]
  },
  {
   "cell_type": "code",
   "execution_count": null,
   "metadata": {
    "collapsed": true
   },
   "outputs": [],
   "source": []
  }
 ],
 "metadata": {
  "kernelspec": {
   "display_name": "Bash",
   "language": "bash",
   "name": "bash"
  },
  "language_info": {
   "codemirror_mode": "shell",
   "file_extension": ".sh",
   "mimetype": "text/x-sh",
   "name": "bash"
  }
 },
 "nbformat": 4,
 "nbformat_minor": 2
}
